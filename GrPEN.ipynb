{
  "nbformat": 4,
  "nbformat_minor": 0,
  "metadata": {
    "colab": {
      "provenance": [],
      "authorship_tag": "ABX9TyP4ndpddcKoT4GJco2S9ZVL",
      "include_colab_link": true
    },
    "kernelspec": {
      "name": "python3",
      "display_name": "Python 3"
    },
    "language_info": {
      "name": "python"
    }
  },
  "cells": [
    {
      "cell_type": "markdown",
      "metadata": {
        "id": "view-in-github",
        "colab_type": "text"
      },
      "source": [
        "<a href=\"https://colab.research.google.com/github/Arminh388/Generative-Photo-Reconstruction/blob/Armin_SRGANTestingArea/GrPEN.ipynb\" target=\"_parent\"><img src=\"https://colab.research.google.com/assets/colab-badge.svg\" alt=\"Open In Colab\"/></a>"
      ]
    },
    {
      "cell_type": "markdown",
      "source": [
        "install requirements"
      ],
      "metadata": {
        "id": "xFSDKw3py14E"
      }
    },
    {
      "cell_type": "code",
      "execution_count": null,
      "metadata": {
        "colab": {
          "base_uri": "https://localhost:8080/"
        },
        "id": "BmsSxIxvyk1v",
        "outputId": "9cd17f77-fd8e-4628-ee89-207674079c4f",
        "collapsed": true
      },
      "outputs": [
        {
          "output_type": "stream",
          "name": "stdout",
          "text": [
            "Requirement already satisfied: torch in /usr/local/lib/python3.10/dist-packages (2.5.1+cu121)\n",
            "Requirement already satisfied: torchvision in /usr/local/lib/python3.10/dist-packages (0.20.1+cu121)\n",
            "Requirement already satisfied: opencv-python in /usr/local/lib/python3.10/dist-packages (4.10.0.84)\n",
            "Requirement already satisfied: matplotlib in /usr/local/lib/python3.10/dist-packages (3.8.0)\n",
            "Requirement already satisfied: filelock in /usr/local/lib/python3.10/dist-packages (from torch) (3.16.1)\n",
            "Requirement already satisfied: typing-extensions>=4.8.0 in /usr/local/lib/python3.10/dist-packages (from torch) (4.12.2)\n",
            "Requirement already satisfied: networkx in /usr/local/lib/python3.10/dist-packages (from torch) (3.4.2)\n",
            "Requirement already satisfied: jinja2 in /usr/local/lib/python3.10/dist-packages (from torch) (3.1.4)\n",
            "Requirement already satisfied: fsspec in /usr/local/lib/python3.10/dist-packages (from torch) (2024.10.0)\n",
            "Requirement already satisfied: sympy==1.13.1 in /usr/local/lib/python3.10/dist-packages (from torch) (1.13.1)\n",
            "Requirement already satisfied: mpmath<1.4,>=1.1.0 in /usr/local/lib/python3.10/dist-packages (from sympy==1.13.1->torch) (1.3.0)\n",
            "Requirement already satisfied: numpy in /usr/local/lib/python3.10/dist-packages (from torchvision) (1.26.4)\n",
            "Requirement already satisfied: pillow!=8.3.*,>=5.3.0 in /usr/local/lib/python3.10/dist-packages (from torchvision) (11.0.0)\n",
            "Requirement already satisfied: contourpy>=1.0.1 in /usr/local/lib/python3.10/dist-packages (from matplotlib) (1.3.1)\n",
            "Requirement already satisfied: cycler>=0.10 in /usr/local/lib/python3.10/dist-packages (from matplotlib) (0.12.1)\n",
            "Requirement already satisfied: fonttools>=4.22.0 in /usr/local/lib/python3.10/dist-packages (from matplotlib) (4.55.3)\n",
            "Requirement already satisfied: kiwisolver>=1.0.1 in /usr/local/lib/python3.10/dist-packages (from matplotlib) (1.4.7)\n",
            "Requirement already satisfied: packaging>=20.0 in /usr/local/lib/python3.10/dist-packages (from matplotlib) (24.2)\n",
            "Requirement already satisfied: pyparsing>=2.3.1 in /usr/local/lib/python3.10/dist-packages (from matplotlib) (3.2.0)\n",
            "Requirement already satisfied: python-dateutil>=2.7 in /usr/local/lib/python3.10/dist-packages (from matplotlib) (2.8.2)\n",
            "Requirement already satisfied: six>=1.5 in /usr/local/lib/python3.10/dist-packages (from python-dateutil>=2.7->matplotlib) (1.17.0)\n",
            "Requirement already satisfied: MarkupSafe>=2.0 in /usr/local/lib/python3.10/dist-packages (from jinja2->torch) (3.0.2)\n"
          ]
        }
      ],
      "source": [
        "!pip install torch torchvision opencv-python matplotlib"
      ]
    },
    {
      "cell_type": "markdown",
      "source": [
        "Neural Network Class"
      ],
      "metadata": {
        "id": "ORL9ERC6zA-A"
      }
    },
    {
      "cell_type": "code",
      "source": [
        "import torch\n",
        "from torch import nn\n",
        "from torchvision.models import vgg19\n",
        "import torchvision.transforms as transforms\n",
        "from torch.utils.data import DataLoader, Dataset\n",
        "import os\n",
        "import cv2\n",
        "from PIL import Image\n",
        "\n",
        "# Residual Block\n",
        "class ResidualBlock(nn.Module):\n",
        "    def __init__(self, in_channels):\n",
        "        super(ResidualBlock, self).__init__()\n",
        "        self.conv1 = nn.Conv2d(in_channels, in_channels, kernel_size=3, padding=1)\n",
        "        self.bn1 = nn.BatchNorm2d(in_channels)\n",
        "        self.relu = nn.ReLU(inplace=True)\n",
        "        self.conv2 = nn.Conv2d(in_channels, in_channels, kernel_size=3, padding=1)\n",
        "        self.bn2 = nn.BatchNorm2d(in_channels)\n",
        "\n",
        "    def forward(self, x):\n",
        "        identity = x\n",
        "        out = self.conv1(x)\n",
        "        out = self.bn1(out)\n",
        "        out = self.relu(out)\n",
        "        out = self.conv2(out)\n",
        "        out = self.bn2(out)\n",
        "        return self.relu(out + identity)\n",
        "\n",
        "# GPEN Generator\n",
        "class GPENGenerator(nn.Module):\n",
        "    def __init__(self, in_channels=3, num_residuals=8):\n",
        "        super(GPENGenerator, self).__init__()\n",
        "        self.encoder = nn.Sequential(\n",
        "            nn.Conv2d(in_channels, 64, kernel_size=3, stride=1, padding=1),\n",
        "            nn.ReLU(inplace=True)\n",
        "        )\n",
        "        self.residual_blocks = nn.Sequential(\n",
        "            *[ResidualBlock(64) for _ in range(num_residuals)]\n",
        "        )\n",
        "        self.decoder = nn.Sequential(\n",
        "            nn.Conv2d(64, 64, kernel_size=3, stride=1, padding=1),\n",
        "            nn.ReLU(inplace=True),\n",
        "            nn.Conv2d(64, in_channels, kernel_size=3, stride=1, padding=1),\n",
        "            nn.Tanh()\n",
        "        )\n",
        "\n",
        "    def forward(self, x):\n",
        "        x = self.encoder(x)\n",
        "        x = self.residual_blocks(x)\n",
        "        x = self.decoder(x)\n",
        "        return x\n",
        "\n",
        "# GPEN Discriminator\n",
        "class GPENDiscriminator(nn.Module):\n",
        "    def __init__(self, in_channels=3):\n",
        "        super(GPENDiscriminator, self).__init__()\n",
        "        self.model = nn.Sequential(\n",
        "            nn.Conv2d(in_channels, 64, kernel_size=3, stride=2, padding=1),\n",
        "            nn.LeakyReLU(0.2, inplace=True),\n",
        "            nn.Conv2d(64, 128, kernel_size=3, stride=2, padding=1),\n",
        "            nn.BatchNorm2d(128),\n",
        "            nn.LeakyReLU(0.2, inplace=True),\n",
        "            nn.Conv2d(128, 256, kernel_size=3, stride=2, padding=1),\n",
        "            nn.BatchNorm2d(256),\n",
        "            nn.LeakyReLU(0.2, inplace=True),\n",
        "            nn.Conv2d(256, 512, kernel_size=3, stride=2, padding=1),\n",
        "            nn.BatchNorm2d(512),\n",
        "            nn.LeakyReLU(0.2, inplace=True),\n",
        "            nn.Flatten(),\n",
        "            nn.Linear(512 * 4 * 4, 1),\n",
        "        )\n",
        "\n",
        "    def forward(self, x):\n",
        "        return self.model(x)\n"
      ],
      "metadata": {
        "id": "gm5TIQs9y8sJ"
      },
      "execution_count": null,
      "outputs": []
    },
    {
      "cell_type": "code",
      "source": [
        "class FaceDataset(Dataset):\n",
        "    def __init__(self, lr_dir, hr_dir, transform=None):\n",
        "        self.lr_dir = lr_dir\n",
        "        self.hr_dir = hr_dir\n",
        "        self.transform = transform\n",
        "        self.lr_images = os.listdir(lr_dir)\n",
        "        self.hr_images = os.listdir(hr_dir)\n",
        "\n",
        "    def __len__(self):\n",
        "        return len(self.lr_images)\n",
        "\n",
        "    def __getitem__(self, idx):\n",
        "        lr_image = Image.open(os.path.join(self.lr_dir, self.lr_images[idx])).convert(\"RGB\")\n",
        "        hr_image = Image.open(os.path.join(self.hr_dir, self.hr_images[idx])).convert(\"RGB\")\n",
        "\n",
        "        if self.transform:\n",
        "            lr_image = self.transform(lr_image)\n",
        "            hr_image = self.transform(hr_image)\n",
        "\n",
        "        return lr_image, hr_image\n",
        "\n",
        "transform = transforms.Compose([\n",
        "    transforms.ToTensor(),\n",
        "    transforms.Normalize(mean=[0.5, 0.5, 0.5], std=[0.5, 0.5, 0.5])\n",
        "])\n"
      ],
      "metadata": {
        "id": "en5SujZ9zP2R"
      },
      "execution_count": null,
      "outputs": []
    },
    {
      "cell_type": "markdown",
      "source": [
        "Traning Loop"
      ],
      "metadata": {
        "id": "71Aj4HozzUnb"
      }
    },
    {
      "cell_type": "code",
      "source": [
        "def train(dataloader, generator, discriminator, optimizer_g, optimizer_d, criterion, num_epochs=50):\n",
        "    for epoch in range(num_epochs):\n",
        "        for i, (lr, hr) in enumerate(dataloader):\n",
        "            lr, hr = lr.cuda(), hr.cuda()\n",
        "\n",
        "            # Train Discriminator\n",
        "            optimizer_d.zero_grad()\n",
        "            fake_hr = generator(lr).detach()\n",
        "            real_pred = discriminator(hr)\n",
        "            fake_pred = discriminator(fake_hr)\n",
        "\n",
        "            d_loss = criterion(real_pred, torch.ones_like(real_pred)) + criterion(fake_pred, torch.zeros_like(fake_pred))\n",
        "            d_loss.backward()\n",
        "            optimizer_d.step()\n",
        "\n",
        "            # Train Generator\n",
        "            optimizer_g.zero_grad()\n",
        "            fake_hr = generator(lr)\n",
        "            fake_pred = discriminator(fake_hr)\n",
        "            g_loss = criterion(fake_pred, torch.ones_like(fake_pred)) + nn.MSELoss()(fake_hr, hr)\n",
        "            g_loss.backward()\n",
        "            optimizer_g.step()\n",
        "\n",
        "            if i % 100 == 0:\n",
        "                print(f\"Epoch [{epoch+1}/{num_epochs}], Step [{i}/{len(dataloader)}], D Loss: {d_loss.item()}, G Loss: {g_loss.item()}\")\n",
        "\n",
        "# Initialize Models\n",
        "generator = GPENGenerator().cuda()\n",
        "discriminator = GPENDiscriminator().cuda()\n",
        "\n",
        "# Optimizers and Loss\n",
        "optimizer_g = torch.optim.Adam(generator.parameters(), lr=1e-4, betas=(0.5, 0.999))\n",
        "optimizer_d = torch.optim.Adam(discriminator.parameters(), lr=1e-4, betas=(0.5, 0.999))\n",
        "criterion = nn.BCEWithLogitsLoss()\n",
        "\n",
        "# Dataset and DataLoader\n",
        "lr_dir = \"path_to_lr_images\"\n",
        "hr_dir = \"path_to_hr_images\"\n",
        "dataset = FaceDataset(lr_dir, hr_dir, transform=transform)\n",
        "dataloader = DataLoader(dataset, batch_size=16, shuffle=True)\n",
        "\n",
        "# Train the Model\n",
        "train(dataloader, generator, discriminator, optimizer_g, optimizer_d, criterion, num_epochs=50)\n",
        "\n",
        "# Save Models\n",
        "torch.save(generator.state_dict(), \"gpen_generator.pth\")\n",
        "torch.save(discriminator.state_dict(), \"gpen_discriminator.pth\")\n"
      ],
      "metadata": {
        "id": "xeXa-h64zWO_"
      },
      "execution_count": null,
      "outputs": []
    },
    {
      "cell_type": "markdown",
      "source": [
        "Save State"
      ],
      "metadata": {
        "id": "zOLpHSmmzatp"
      }
    },
    {
      "cell_type": "code",
      "source": [
        "generator.load_state_dict(torch.load(\"gpen_generator.pth\"))\n",
        "discriminator.load_state_dict(torch.load(\"gpen_discriminator.pth\"))\n",
        "\n",
        "train(dataloader, generator, discriminator, optimizer_g, optimizer_d, criterion, num_epochs=10)\n"
      ],
      "metadata": {
        "id": "zfDIoLItzcq9"
      },
      "execution_count": null,
      "outputs": []
    },
    {
      "cell_type": "markdown",
      "source": [
        "Evaluation"
      ],
      "metadata": {
        "id": "ynRjSyD9zdiD"
      }
    },
    {
      "cell_type": "code",
      "source": [
        "from torchvision.utils import save_image\n",
        "\n",
        "generator.eval()\n",
        "with torch.no_grad():\n",
        "    for i, (lr, _) in enumerate(dataloader):\n",
        "        lr = lr.cuda()\n",
        "        restored_faces = generator(lr)\n",
        "        save_image(restored_faces, f\"restored_face_{i}.png\", normalize=True)\n"
      ],
      "metadata": {
        "id": "5xBhIxKizheQ"
      },
      "execution_count": null,
      "outputs": []
    }
  ]
}